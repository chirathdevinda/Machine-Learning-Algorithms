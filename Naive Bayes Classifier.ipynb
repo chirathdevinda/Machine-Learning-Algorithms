{
 "cells": [
  {
   "cell_type": "markdown",
   "metadata": {},
   "source": [
    "# Naive Bayes Classifier"
   ]
  },
  {
   "cell_type": "code",
   "execution_count": 1,
   "metadata": {
    "collapsed": true
   },
   "outputs": [],
   "source": [
    "# Importing all the necessary packages\n",
    "import numpy as np\n",
    "import pandas as pd\n",
    "from sklearn import preprocessing\n",
    "import scipy.stats as stats\n",
    "\n",
    "path = \"DataSets/breast-cancer.csv\"\n",
    "test_path = \"DataSets/breast-cancer.csv\""
   ]
  },
  {
   "cell_type": "code",
   "execution_count": 2,
   "metadata": {
    "collapsed": true
   },
   "outputs": [],
   "source": [
    "def preprocess(dataset):\n",
    "    data = dataset.values\n",
    "    dataset = dataset.convert_objects(convert_numeric=True)\n",
    "    columns_idx = list(dataset.iloc[:,:-1].columns)\n",
    "    numeric_cols_idx = list(dataset.iloc[:,:-1]._get_numeric_data().columns)\n",
    "    categorical_cols_idx = list(set(columns_idx) - set(numeric_cols_idx))\n",
    "    \n",
    "    X_numeric = pd.DataFrame(np.float_(data[1:,numeric_cols_idx]), columns=numeric_cols_idx) \n",
    "    X_categorical = pd.DataFrame(data[1:,categorical_cols_idx], columns=categorical_cols_idx)\n",
    "    Y = data[1:,-1]\n",
    "    \n",
    "    lb = preprocessing.LabelBinarizer()\n",
    "    Y = pd.DataFrame(lb.fit_transform(Y), columns=[-1])\n",
    "    for i in range(X_categorical.shape[1]):\n",
    "        X_categorical.iloc[:, i] = pd.Categorical(X_categorical.iloc[:, i])\n",
    "        X_categorical.iloc[:, i] = X_categorical.iloc[:, i].cat.codes\n",
    "    \n",
    "    #X_categorical = X_categorical.values\n",
    "    \n",
    "    return X_numeric, X_categorical, Y"
   ]
  },
  {
   "cell_type": "code",
   "execution_count": 3,
   "metadata": {
    "collapsed": true
   },
   "outputs": [],
   "source": [
    "def load_data(path):\n",
    "    dataset = pd.read_csv(path, header=None)\n",
    "    X_numeric, X_categorical, Y = preprocess(dataset)\n",
    "    \n",
    "    X_numeric.reset_index(drop=True, inplace=True)\n",
    "    X_categorical.reset_index(drop=True, inplace=True)\n",
    "    Y.reset_index(drop=True, inplace=True)\n",
    "    \n",
    "    return X_numeric, X_categorical, Y"
   ]
  },
  {
   "cell_type": "code",
   "execution_count": 4,
   "metadata": {},
   "outputs": [
    {
     "name": "stderr",
     "output_type": "stream",
     "text": [
      "C:\\ProgramData\\Anaconda3\\lib\\site-packages\\ipykernel_launcher.py:3: FutureWarning: convert_objects is deprecated.  Use the data-type specific converters pd.to_datetime, pd.to_timedelta and pd.to_numeric.\n",
      "  This is separate from the ipykernel package so we can avoid doing imports until\n"
     ]
    }
   ],
   "source": [
    "X_numeric, X_categorical, Y = load_data(path)\n",
    "numeric_data = pd.concat([X_numeric, Y], axis=1)\n",
    "categorical_data = pd.concat([X_categorical, Y], axis=1)\n",
    "\n",
    "numerical_X_positive = numeric_data[numeric_data.iloc[:,-1] == 1]\n",
    "numerical_X_negative = numeric_data[numeric_data.iloc[:,-1] == 0]\n",
    "\n",
    "categorical_X_positive = categorical_data[categorical_data.iloc[:,-1] == 1]\n",
    "categorical_X_negative = categorical_data[categorical_data.iloc[:,-1] == 0]"
   ]
  },
  {
   "cell_type": "code",
   "execution_count": 5,
   "metadata": {
    "collapsed": true
   },
   "outputs": [],
   "source": [
    "def isInt(value):\n",
    "  try:\n",
    "    int(value)\n",
    "    return True\n",
    "  except ValueError:\n",
    "    return False"
   ]
  },
  {
   "cell_type": "code",
   "execution_count": 6,
   "metadata": {
    "collapsed": true
   },
   "outputs": [],
   "source": [
    "def NaiveBayes(numerical_X_positive, numerical_X_negative, categorical_X_positive, categorical_X_negative, Observation):\n",
    "    \n",
    "    P_of_Y_positive = len(numerical_X_positive) / (len(numerical_X_positive) + len(numerical_X_negative))\n",
    "    P_of_Y_negative = len(numerical_X_negative) / (len(numerical_X_positive) + len(numerical_X_negative))\n",
    "    P_of_X_given_Y_positive = 1\n",
    "    P_of_X_given_Y_negative = 1\n",
    "    \n",
    "    for i, x in Observation.iteritems():\n",
    "        #print(i)\n",
    "        if isInt(x): \n",
    "            x = int(x)\n",
    "            P_of_X_given_Y_positive *= len(categorical_X_positive[i][categorical_X_positive[i] == x]) / len(categorical_X_positive)\n",
    "            P_of_X_given_Y_negative *= len(categorical_X_negative[i][categorical_X_negative[i] == x]) / len(categorical_X_negative)\n",
    "            \n",
    "        else:\n",
    "            x = float(x)\n",
    "            pos_mean = np.mean(np.float_(numerical_X_positive[i].values))\n",
    "            pos_std = np.std(np.float_(numerical_X_positive[i].values))\n",
    "            P_of_X_given_Y_positive *= stats.norm(pos_mean, pos_std).pdf(x)\n",
    "\n",
    "            neg_mean = np.mean(np.float_(numerical_X_negative[i].values))\n",
    "            neg_std = np.std(np.float_(numerical_X_negative[i].values))\n",
    "            P_of_X_given_Y_negative *= stats.norm(neg_mean, neg_std).pdf(x)\n",
    "            \n",
    "    P_of_Y_given_X = 1 if P_of_X_given_Y_positive * P_of_Y_positive >= P_of_X_given_Y_negative * P_of_Y_negative else 0\n",
    "    \n",
    "    return P_of_Y_given_X"
   ]
  },
  {
   "cell_type": "code",
   "execution_count": 7,
   "metadata": {
    "collapsed": true
   },
   "outputs": [],
   "source": [
    "def Accuracy(numerical_X_positive, numerical_X_negative, categorical_X_positive, categorical_X_negative, Observations, Y):\n",
    "    total, TP, FP, TN, FN, prediction, Accuracy = 0, 0, 0, 0, 0, 0, 0\n",
    "    Observations = Observations.astype('str')\n",
    "    \n",
    "    for i, row in Observations.iterrows():\n",
    "        #print(\"row\", i)\n",
    "        prediction = 1 if Y.iloc[i,-1] == NaiveBayes(numerical_X_positive, numerical_X_negative, categorical_X_positive, categorical_X_negative, row) else 0\n",
    "\n",
    "        if prediction:\n",
    "            total += 1\n",
    "            TP += 1 if Y.iloc[i,-1] == 1 else 0\n",
    "            TN += 1 if Y.iloc[i,-1] == 0 else 0\n",
    "        else:\n",
    "            FP += 1 if Y.iloc[i,-1] == 0 else 0\n",
    "            FN += 1 if Y.iloc[i,-1] == 1 else 0\n",
    "            \n",
    "    Accuracy = total/ len(Y) * 100\n",
    "\n",
    "    return (\"Accuracy; %.4f, TP: %s, FP: %s, TN: %s, FN: %s \" % (Accuracy, TP, FP, TN, FN))"
   ]
  },
  {
   "cell_type": "code",
   "execution_count": 8,
   "metadata": {
    "collapsed": true
   },
   "outputs": [],
   "source": [
    "def TransformDataSet(path):\n",
    "    X_numeric, X_categorical, Y = load_data(path)\n",
    "    trasformed_data = pd.concat([X_numeric, X_categorical], axis=1)\n",
    "    return trasformed_data, Y"
   ]
  },
  {
   "cell_type": "code",
   "execution_count": 9,
   "metadata": {},
   "outputs": [
    {
     "name": "stderr",
     "output_type": "stream",
     "text": [
      "C:\\ProgramData\\Anaconda3\\lib\\site-packages\\ipykernel_launcher.py:3: FutureWarning: convert_objects is deprecated.  Use the data-type specific converters pd.to_datetime, pd.to_timedelta and pd.to_numeric.\n",
      "  This is separate from the ipykernel package so we can avoid doing imports until\n"
     ]
    }
   ],
   "source": [
    "Xtest, Ytest = TransformDataSet(test_path)"
   ]
  },
  {
   "cell_type": "code",
   "execution_count": 10,
   "metadata": {},
   "outputs": [
    {
     "data": {
      "text/plain": [
       "'Accuracy; 74.8252, TP: 44, FP: 31, TN: 170, FN: 41 '"
      ]
     },
     "execution_count": 10,
     "metadata": {},
     "output_type": "execute_result"
    }
   ],
   "source": [
    "Accuracy(numerical_X_positive, numerical_X_negative, categorical_X_positive, categorical_X_negative, Xtest, Ytest)"
   ]
  },
  {
   "cell_type": "code",
   "execution_count": null,
   "metadata": {
    "collapsed": true
   },
   "outputs": [],
   "source": []
  },
  {
   "cell_type": "code",
   "execution_count": null,
   "metadata": {
    "collapsed": true
   },
   "outputs": [],
   "source": []
  },
  {
   "cell_type": "code",
   "execution_count": null,
   "metadata": {
    "collapsed": true
   },
   "outputs": [],
   "source": []
  },
  {
   "cell_type": "code",
   "execution_count": null,
   "metadata": {
    "collapsed": true
   },
   "outputs": [],
   "source": []
  },
  {
   "cell_type": "code",
   "execution_count": null,
   "metadata": {
    "collapsed": true
   },
   "outputs": [],
   "source": []
  },
  {
   "cell_type": "code",
   "execution_count": null,
   "metadata": {
    "collapsed": true
   },
   "outputs": [],
   "source": []
  },
  {
   "cell_type": "code",
   "execution_count": null,
   "metadata": {
    "collapsed": true
   },
   "outputs": [],
   "source": []
  },
  {
   "cell_type": "code",
   "execution_count": null,
   "metadata": {
    "collapsed": true
   },
   "outputs": [],
   "source": []
  }
 ],
 "metadata": {
  "kernelspec": {
   "display_name": "Python 3",
   "language": "python",
   "name": "python3"
  },
  "language_info": {
   "codemirror_mode": {
    "name": "ipython",
    "version": 3
   },
   "file_extension": ".py",
   "mimetype": "text/x-python",
   "name": "python",
   "nbconvert_exporter": "python",
   "pygments_lexer": "ipython3",
   "version": "3.6.1"
  }
 },
 "nbformat": 4,
 "nbformat_minor": 2
}
