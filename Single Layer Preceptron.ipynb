{
 "cells": [
  {
   "cell_type": "markdown",
   "metadata": {},
   "source": [
    "# Single Layer Preceptron with One output"
   ]
  },
  {
   "cell_type": "code",
   "execution_count": 211,
   "metadata": {
    "collapsed": true
   },
   "outputs": [],
   "source": [
    "import numpy as np\n",
    "import pandas as pd\n",
    "import matplotlib.pyplot as plt\n",
    "from sklearn.preprocessing import LabelBinarizer\n",
    "import sys\n",
    "\n",
    "path = \"DataSets\\diabetes.csv\"\n",
    "test_path = \"DataSets\\diabetes.csv\""
   ]
  },
  {
   "cell_type": "code",
   "execution_count": 212,
   "metadata": {
    "collapsed": true
   },
   "outputs": [],
   "source": [
    "def preprocess(path):\n",
    "    dataset = pd.read_csv(path, header=0)\n",
    "    data = dataset.values\n",
    "    \n",
    "    x = data[:,:-1]\n",
    "    y = data[:,-1]\n",
    "    \n",
    "    lb = LabelBinarizer()\n",
    "    lb.fit(y)\n",
    "    y = lb.transform(y)\n",
    "    \n",
    "    return x, y"
   ]
  },
  {
   "cell_type": "code",
   "execution_count": 213,
   "metadata": {},
   "outputs": [],
   "source": [
    "xtrain, ytrain = preprocess(path)"
   ]
  },
  {
   "cell_type": "code",
   "execution_count": 277,
   "metadata": {
    "collapsed": true
   },
   "outputs": [],
   "source": [
    "def Perceptron(xtrain, ytrain):\n",
    "    np.random.seed(1)\n",
    "    input_layer_nodes = xtrain.shape[1]\n",
    "    output_layer_nodes = ytrain.shape[1]\n",
    "    num_samples = xtrain.shape[0]\n",
    "    iterations = 10\n",
    "    alpha = 0.1\n",
    "    final_prediction = []\n",
    "    \n",
    "    weights_input_output = 0.2*np.random.random((input_layer_nodes, output_layer_nodes)) - 0.1\n",
    "    \n",
    "    for iteration in range(iterations):\n",
    "        error, correct_cnt = 0.0, 0\n",
    "        \n",
    "        for i in range(num_samples):\n",
    "            input_layer = xtrain[i:i+1]\n",
    "            target = ytrain[i:i+1]\n",
    "            prediction = 0 if input_layer.dot(weights_input_output) < 0.5 else 1\n",
    "            \n",
    "            if iteration == (iterations)-1:\n",
    "                final_prediction.append(prediction)\n",
    "            correct_cnt += int(prediction) == target\n",
    "            \n",
    "            delta = prediction - target\n",
    "            weights_input_output -= delta[0][0] * alpha\n",
    "        \n",
    "        sys.stdout.write(\"\\r\" + \" Correct_cnt: \" + str(correct_cnt[0][0]))\n",
    "\n",
    "    return final_prediction, correct_cnt"
   ]
  },
  {
   "cell_type": "code",
   "execution_count": 316,
   "metadata": {
    "collapsed": true
   },
   "outputs": [],
   "source": [
    "def Plot(x1,x2, y):\n",
    "    fig = plt.figure(figsize=(6,3))\n",
    "    ax = fig.add_axes([0,0,1,1])\n",
    "    ax.set_xlabel(\"Iteration\")\n",
    "    ax.set_ylabel(\"Error\")\n",
    "    ax.set_title(\"Error Plot\")\n",
    "    plt.scatter(x1,x2, c=y)\n",
    "    plt.show()"
   ]
  },
  {
   "cell_type": "code",
   "execution_count": 317,
   "metadata": {},
   "outputs": [],
   "source": [
    "def Accuracy(target, predictions, correct_cnt):\n",
    "    \n",
    "    TP, TN, FP, FN, Accuracy = 0,0,0,0,0.0\n",
    "    num_samples = len(target)\n",
    "    \n",
    "    Accuracy = correct_cnt / num_samples * 100\n",
    "    \n",
    "    for i in range(num_samples):\n",
    "        if target[i] == 0:\n",
    "            FP += 1 if predictions[i] == 1 else 0\n",
    "            TN += 1 if predictions[i] == 0 else 0\n",
    "        elif target[i] == 1:\n",
    "            TP += 1 if predictions[i] == 1 else 0\n",
    "            FN += 1 if predictions[i] == 0 else 0\n",
    "            \n",
    "    return (\"Accuracy; %.4f %s, TP: %s, FP: %s, TN: %s, FN: %s \" % (Accuracy, \"%\", TP, FP, TN, FN))"
   ]
  },
  {
   "cell_type": "markdown",
   "metadata": {},
   "source": [
    "# Predicting Diabetes DataSet"
   ]
  },
  {
   "cell_type": "code",
   "execution_count": 299,
   "metadata": {},
   "outputs": [
    {
     "name": "stdout",
     "output_type": "stream",
     "text": [
      "\r",
      " Correct_cnt: 436\r",
      " Correct_cnt: 436\r",
      " Correct_cnt: 436\r",
      " Correct_cnt: 436\r",
      " Correct_cnt: 436\r",
      " Correct_cnt: 436\r",
      " Correct_cnt: 436\r",
      " Correct_cnt: 436\r",
      " Correct_cnt: 436\r",
      " Correct_cnt: 436"
     ]
    },
    {
     "data": {
      "text/plain": [
       "'Accuracy; 56.7708 %, TP: 102, FP: 166, TN: 334, FN: 166 '"
      ]
     },
     "execution_count": 299,
     "metadata": {},
     "output_type": "execute_result"
    }
   ],
   "source": [
    "predictions, correct_cnt = Perceptron(xtrain, ytrain)\n",
    "Accuracy(ytrain, predictions, correct_cnt)"
   ]
  },
  {
   "cell_type": "markdown",
   "metadata": {},
   "source": [
    "# OR Gate : Classification"
   ]
  },
  {
   "cell_type": "code",
   "execution_count": 318,
   "metadata": {},
   "outputs": [
    {
     "name": "stdout",
     "output_type": "stream",
     "text": [
      "\r",
      " Correct_cnt: 1\r",
      " Correct_cnt: 2\r",
      " Correct_cnt: 3\r",
      " Correct_cnt: 4\r",
      " Correct_cnt: 4\r",
      " Correct_cnt: 4\r",
      " Correct_cnt: 4\r",
      " Correct_cnt: 4\r",
      " Correct_cnt: 4\r",
      " Correct_cnt: 4"
     ]
    },
    {
     "data": {
      "text/plain": [
       "'Accuracy; 100.0000 %, TP: 3, FP: 0, TN: 1, FN: 0 '"
      ]
     },
     "execution_count": 318,
     "metadata": {},
     "output_type": "execute_result"
    }
   ],
   "source": [
    "x = np.array([[0,0],[1,0],[0,1],[1,1]])\n",
    "y = np.array([[0],[1],[1],[1]])\n",
    "\n",
    "predictions, correct_cnt = Perceptron(x,y)\n",
    "Accuracy(y, predictions, correct_cnt)"
   ]
  },
  {
   "cell_type": "code",
   "execution_count": 319,
   "metadata": {},
   "outputs": [
    {
     "data": {
      "image/png": "[encoded data removed]",
      "text/plain": [
       "<matplotlib.figure.Figure at 0xc3062b0>"
      ]
     },
     "metadata": {},
     "output_type": "display_data"
    }
   ],
   "source": [
    "Plot(x[:,0],x[:,1], y)"
   ]
  },
  {
   "cell_type": "markdown",
   "metadata": {},
   "source": [
    "# AND Gate : Classification"
   ]
  },
  {
   "cell_type": "code",
   "execution_count": 320,
   "metadata": {},
   "outputs": [
    {
     "name": "stdout",
     "output_type": "stream",
     "text": [
      "\r",
      " Correct_cnt: 3\r",
      " Correct_cnt: 3\r",
      " Correct_cnt: 3\r",
      " Correct_cnt: 4\r",
      " Correct_cnt: 4\r",
      " Correct_cnt: 4\r",
      " Correct_cnt: 4\r",
      " Correct_cnt: 4\r",
      " Correct_cnt: 4\r",
      " Correct_cnt: 4"
     ]
    },
    {
     "data": {
      "text/plain": [
       "'Accuracy; 100.0000 %, TP: 1, FP: 0, TN: 3, FN: 0 '"
      ]
     },
     "execution_count": 320,
     "metadata": {},
     "output_type": "execute_result"
    }
   ],
   "source": [
    "x = np.array([[0,0],[1,0],[0,1],[1,1]])\n",
    "y = np.array([[0],[0],[0],[1]])\n",
    "\n",
    "predictions, correct_cnt = Perceptron(x,y)\n",
    "Accuracy(y, predictions, correct_cnt)"
   ]
  },
  {
   "cell_type": "code",
   "execution_count": 321,
   "metadata": {},
   "outputs": [
    {
     "data": {
      "image/png": "[encoded data removed]",
      "text/plain": [
       "<matplotlib.figure.Figure at 0xc54b438>"
      ]
     },
     "metadata": {},
     "output_type": "display_data"
    }
   ],
   "source": [
    "Plot(x[:,0],x[:,1], y)"
   ]
  },
  {
   "cell_type": "markdown",
   "metadata": {},
   "source": [
    "# XOR Gate : Classification"
   ]
  },
  {
   "cell_type": "code",
   "execution_count": 322,
   "metadata": {},
   "outputs": [
    {
     "name": "stdout",
     "output_type": "stream",
     "text": [
      "\r",
      " Correct_cnt: 2\r",
      " Correct_cnt: 1\r",
      " Correct_cnt: 1\r",
      " Correct_cnt: 2\r",
      " Correct_cnt: 2\r",
      " Correct_cnt: 2\r",
      " Correct_cnt: 2\r",
      " Correct_cnt: 2\r",
      " Correct_cnt: 2\r",
      " Correct_cnt: 2"
     ]
    },
    {
     "data": {
      "text/plain": [
       "'Accuracy; 50.0000 %, TP: 1, FP: 1, TN: 1, FN: 1 '"
      ]
     },
     "execution_count": 322,
     "metadata": {},
     "output_type": "execute_result"
    }
   ],
   "source": [
    "x = np.array([[0,0],[1,0],[0,1],[1,1]])\n",
    "y = np.array([[0],[1],[1],[0]])\n",
    "\n",
    "predictions, correct_cnt = Perceptron(x,y)\n",
    "Accuracy(y, predictions, correct_cnt)"
   ]
  },
  {
   "cell_type": "code",
   "execution_count": 323,
   "metadata": {},
   "outputs": [
    {
     "data": {
      "image/png": "[encoded data removed]",
      "text/plain": [
       "<matplotlib.figure.Figure at 0xc5650b8>"
      ]
     },
     "metadata": {},
     "output_type": "display_data"
    }
   ],
   "source": [
    "Plot(x[:,0],x[:,1], y)"
   ]
  },
  {
   "cell_type": "code",
   "execution_count": 324,
   "metadata": {
    "collapsed": true
   },
   "outputs": [],
   "source": [
    "#####################################################################################################\n",
    "# Simple OR Gate or AND Gate can be classified by the single perception \n",
    "# (Because of its Linear Decision Boundary)\n",
    "#\n",
    "# However, XOR Gate cannot be classified by so, instead it needs more nodes to classify it correctly \n",
    "# (Because of its NON-Linear Decision Boundary)\n",
    "#####################################################################################################"
   ]
  },
  {
   "cell_type": "code",
   "execution_count": null,
   "metadata": {
    "collapsed": true
   },
   "outputs": [],
   "source": []
  }
 ],
 "metadata": {
  "kernelspec": {
   "display_name": "Python 3",
   "language": "python",
   "name": "python3"
  },
  "language_info": {
   "codemirror_mode": {
    "name": "ipython",
    "version": 3
   },
   "file_extension": ".py",
   "mimetype": "text/x-python",
   "name": "python",
   "nbconvert_exporter": "python",
   "pygments_lexer": "ipython3",
   "version": "3.6.1"
  }
 },
 "nbformat": 4,
 "nbformat_minor": 2
}
