{
 "cells": [
  {
   "cell_type": "markdown",
   "metadata": {},
   "source": [
    "# K-Nearest Neighbour (KNN) - Classification"
   ]
  },
  {
   "cell_type": "code",
   "execution_count": 409,
   "metadata": {
    "collapsed": true
   },
   "outputs": [],
   "source": [
    "import numpy as np\n",
    "import pandas as pd\n",
    "from sklearn import preprocessing\n",
    "\n",
    "path = \"DataSets\\diabetes.csv\"\n",
    "test_path = \"DataSets\\diabetes.csv\""
   ]
  },
  {
   "cell_type": "code",
   "execution_count": 619,
   "metadata": {
    "collapsed": true
   },
   "outputs": [],
   "source": [
    "def preprocess(dataset):\n",
    "    data = dataset.values\n",
    "    dataset = dataset.convert_objects(convert_numeric=True)\n",
    "    columns_idx = list(dataset.iloc[:,:-1].columns)\n",
    "    numeric_cols_idx = list(dataset.iloc[:,:-1]._get_numeric_data().columns)\n",
    "    categorical_cols_idx = list(set(columns_idx) - set(numeric_cols_idx))\n",
    "\n",
    "    Y = data[1:,-1]\n",
    "    \n",
    "    lb = preprocessing.LabelBinarizer()\n",
    "    Y = pd.DataFrame(lb.fit_transform(Y), columns=[-1])\n",
    "    for i in categorical_cols_idx:\n",
    "        dataset.iloc[:, i] = pd.Categorical(dataset.iloc[:, i])\n",
    "        dataset.iloc[:, i] = dataset.iloc[:, i].cat.codes\n",
    "    \n",
    "    return dataset.iloc[:,:-1], Y"
   ]
  },
  {
   "cell_type": "code",
   "execution_count": 549,
   "metadata": {
    "collapsed": true
   },
   "outputs": [],
   "source": [
    "def load_data(path):\n",
    "    dataset = pd.read_csv(path, header=None)\n",
    "    data, Y = preprocess(dataset)\n",
    "    \n",
    "    data.reset_index(drop=True, inplace=True)\n",
    "    Y.reset_index(drop=True, inplace=True)\n",
    "    \n",
    "    return data.iloc[1:,:], Y"
   ]
  },
  {
   "cell_type": "code",
   "execution_count": 550,
   "metadata": {},
   "outputs": [
    {
     "name": "stderr",
     "output_type": "stream",
     "text": [
      "C:\\ProgramData\\Anaconda3\\lib\\site-packages\\ipykernel_launcher.py:3: FutureWarning: convert_objects is deprecated.  Use the data-type specific converters pd.to_datetime, pd.to_timedelta and pd.to_numeric.\n",
      "  This is separate from the ipykernel package so we can avoid doing imports until\n"
     ]
    }
   ],
   "source": [
    "training_data, Y = load_data(path)"
   ]
  },
  {
   "cell_type": "code",
   "execution_count": 612,
   "metadata": {},
   "outputs": [],
   "source": [
    "def KNN(training_data, Y, Observation, n_neighbours):\n",
    "\n",
    "    distance_array, index_array = np.array([]), np.array([])\n",
    "    Observation = np.float_(Observation)\n",
    "    \n",
    "    distance_array = pd.DataFrame(np.sqrt(np.square((training_data - Observation)).sum(axis=1)), columns=[\"index\"])\n",
    "    sorted_array = distance_array.sort_values([\"index\"], ascending=1)\n",
    "    K_neighbours = sorted_array.index[:n_neighbours]\n",
    "    Y_values = np.array(Y.iloc[K_neighbours])\n",
    "    \n",
    "    #print(Y, distance_array)\n",
    "    vote = 0 if len(Y_values[Y_values == 0]) >= len(Y_values[Y_values == 1]) else 1\n",
    "\n",
    "    return vote"
   ]
  },
  {
   "cell_type": "code",
   "execution_count": 613,
   "metadata": {},
   "outputs": [],
   "source": [
    "#training_data.iloc[17], KNN(training_data, Y, training_data.iloc[17], 3)"
   ]
  },
  {
   "cell_type": "code",
   "execution_count": 614,
   "metadata": {},
   "outputs": [],
   "source": [
    "def Accuracy(training_data, Y_train, Observations, Y):\n",
    "    total, TP, FP, TN, FN, prediction, Accuracy = 0, 0, 0, 0, 0, 0, 0\n",
    "    Observations = Observations.astype('str')\n",
    "    n_neighbours = 3\n",
    "    \n",
    "    Observations.reset_index(drop=True, inplace=True)\n",
    "    Y.reset_index(drop=True, inplace=True)\n",
    "    training_data.reset_index(drop=True, inplace=True)\n",
    "    Y_train.reset_index(drop=True, inplace=True)\n",
    "        \n",
    "    for i, row in Observations.iterrows():\n",
    "        prediction = 1 if Y.iloc[i,-1] == KNN(training_data, Y_train, row, n_neighbours) else 0\n",
    "\n",
    "        if prediction:\n",
    "            total += 1\n",
    "            TP += 1 if Y.iloc[i,-1] == 1 else 0\n",
    "            TN += 1 if Y.iloc[i,-1] == 0 else 0\n",
    "        else:\n",
    "            FP += 1 if Y.iloc[i,-1] == 0 else 0\n",
    "            FN += 1 if Y.iloc[i,-1] == 1 else 0\n",
    "\n",
    "    Accuracy = total/ len(Y) * 100\n",
    "\n",
    "    return (\"Accuracy; %.4f, TP: %s, FP: %s, TN: %s, FN: %s \" % (Accuracy, TP, FP, TN, FN))"
   ]
  },
  {
   "cell_type": "code",
   "execution_count": 615,
   "metadata": {
    "collapsed": true
   },
   "outputs": [],
   "source": [
    "def TransformDataSet(path):\n",
    "    trasformed_data, Y = load_data(path)\n",
    "    return trasformed_data, Y"
   ]
  },
  {
   "cell_type": "code",
   "execution_count": 616,
   "metadata": {},
   "outputs": [
    {
     "name": "stderr",
     "output_type": "stream",
     "text": [
      "C:\\ProgramData\\Anaconda3\\lib\\site-packages\\ipykernel_launcher.py:3: FutureWarning: convert_objects is deprecated.  Use the data-type specific converters pd.to_datetime, pd.to_timedelta and pd.to_numeric.\n",
      "  This is separate from the ipykernel package so we can avoid doing imports until\n"
     ]
    }
   ],
   "source": [
    "Xtest, Ytest = TransformDataSet(test_path)"
   ]
  },
  {
   "cell_type": "code",
   "execution_count": 617,
   "metadata": {},
   "outputs": [
    {
     "data": {
      "text/plain": [
       "'Accuracy; 85.9375, TP: 201, FP: 41, TN: 459, FN: 67 '"
      ]
     },
     "execution_count": 617,
     "metadata": {},
     "output_type": "execute_result"
    }
   ],
   "source": [
    "Accuracy(training_data, Y, Xtest, Ytest)"
   ]
  },
  {
   "cell_type": "code",
   "execution_count": null,
   "metadata": {
    "collapsed": true
   },
   "outputs": [],
   "source": []
  }
 ],
 "metadata": {
  "kernelspec": {
   "display_name": "Python 3",
   "language": "python",
   "name": "python3"
  },
  "language_info": {
   "codemirror_mode": {
    "name": "ipython",
    "version": 3
   },
   "file_extension": ".py",
   "mimetype": "text/x-python",
   "name": "python",
   "nbconvert_exporter": "python",
   "pygments_lexer": "ipython3",
   "version": "3.6.1"
  }
 },
 "nbformat": 4,
 "nbformat_minor": 2
}
