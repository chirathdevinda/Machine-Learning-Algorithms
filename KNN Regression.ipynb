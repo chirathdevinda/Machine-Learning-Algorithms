{
 "cells": [
  {
   "cell_type": "markdown",
   "metadata": {},
   "source": [
    "# K-Nearest Neighbour (KNN) - Regression"
   ]
  },
  {
   "cell_type": "code",
   "execution_count": 25,
   "metadata": {
    "collapsed": true
   },
   "outputs": [],
   "source": [
    "import numpy as np\n",
    "import pandas as pd\n",
    "from sklearn import preprocessing\n",
    "\n",
    "path = \"DataSets\\cpu.csv\"\n",
    "test_path = \"DataSets\\cpu.csv\""
   ]
  },
  {
   "cell_type": "code",
   "execution_count": 26,
   "metadata": {
    "collapsed": true
   },
   "outputs": [],
   "source": [
    "def preprocess(dataset):\n",
    "    data = dataset.values\n",
    "    dataset = dataset.convert_objects(convert_numeric=True)\n",
    "    columns_idx = list(dataset.iloc[:,:-1].columns)\n",
    "    numeric_cols_idx = list(dataset.iloc[:,:-1]._get_numeric_data().columns)\n",
    "    categorical_cols_idx = list(set(columns_idx) - set(numeric_cols_idx))\n",
    "\n",
    "    Y = pd.DataFrame(data[1:,-1], columns=[-1])\n",
    "    \n",
    "    for i in categorical_cols_idx:\n",
    "        dataset.iloc[:, i] = pd.Categorical(dataset.iloc[:, i])\n",
    "        dataset.iloc[:, i] = dataset.iloc[:, i].cat.codes\n",
    "    \n",
    "    return dataset.iloc[:,:-1], Y"
   ]
  },
  {
   "cell_type": "code",
   "execution_count": 27,
   "metadata": {
    "collapsed": true
   },
   "outputs": [],
   "source": [
    "def load_data(path):\n",
    "    dataset = pd.read_csv(path, header=None)\n",
    "    data, Y = preprocess(dataset)\n",
    "    \n",
    "    data.reset_index(drop=True, inplace=True)\n",
    "    Y.reset_index(drop=True, inplace=True)\n",
    "    \n",
    "    return data.iloc[1:,:], Y"
   ]
  },
  {
   "cell_type": "code",
   "execution_count": 28,
   "metadata": {},
   "outputs": [
    {
     "name": "stderr",
     "output_type": "stream",
     "text": [
      "C:\\ProgramData\\Anaconda3\\lib\\site-packages\\ipykernel_launcher.py:3: FutureWarning: convert_objects is deprecated.  Use the data-type specific converters pd.to_datetime, pd.to_timedelta and pd.to_numeric.\n",
      "  This is separate from the ipykernel package so we can avoid doing imports until\n"
     ]
    }
   ],
   "source": [
    "training_data, Y = load_data(path)"
   ]
  },
  {
   "cell_type": "code",
   "execution_count": 34,
   "metadata": {
    "collapsed": true
   },
   "outputs": [],
   "source": [
    "def KNN(training_data, Y, Observation, n_neighbours):\n",
    "\n",
    "    distance_array, index_array = np.array([]), np.array([])\n",
    "    Observation = np.float_(Observation)\n",
    "    \n",
    "    distance_array = pd.DataFrame(np.sqrt(np.square((training_data - Observation)).sum(axis=1)), columns=[\"index\"])\n",
    "    sorted_array = distance_array.sort_values([\"index\"], ascending=1)\n",
    "    K_neighbours = sorted_array.index[:n_neighbours]\n",
    "    Y_values = np.float_(np.array(Y.iloc[K_neighbours]))\n",
    "\n",
    "    mean = np.mean(Y_values)\n",
    "\n",
    "    return mean"
   ]
  },
  {
   "cell_type": "code",
   "execution_count": 39,
   "metadata": {
    "collapsed": true
   },
   "outputs": [],
   "source": [
    "def Accuracy(training_data, Y_train, Observations, Y):\n",
    "    rmse, mae, corr_coeff, error = 0, 0, 0, 0\n",
    "    Observations = Observations.astype('str')\n",
    "    Y = Y.astype('float')\n",
    "    n_neighbours = 3\n",
    "    \n",
    "    Observations.reset_index(drop=True, inplace=True)\n",
    "    Y.reset_index(drop=True, inplace=True)\n",
    "    training_data.reset_index(drop=True, inplace=True)\n",
    "    Y_train.reset_index(drop=True, inplace=True)\n",
    "        \n",
    "    for i, row in Observations.iterrows():\n",
    "        prediction = KNN(training_data, Y_train, row, n_neighbours)\n",
    "        error += np.abs(Y.iloc[i,-1] - prediction)\n",
    "        rmse += np.square(Y.iloc[i,-1] - prediction)\n",
    "\n",
    "    mae = error / len(Y)\n",
    "    rmse = np.sqrt(rmse/ len(Y))\n",
    "\n",
    "    return (\"MAE; %.4f, RMSE; %.4f\" % (mae, rmse))"
   ]
  },
  {
   "cell_type": "code",
   "execution_count": 40,
   "metadata": {
    "collapsed": true
   },
   "outputs": [],
   "source": [
    "def TransformDataSet(path):\n",
    "    trasformed_data, Y = load_data(path)\n",
    "    return trasformed_data, Y"
   ]
  },
  {
   "cell_type": "code",
   "execution_count": 41,
   "metadata": {},
   "outputs": [
    {
     "name": "stderr",
     "output_type": "stream",
     "text": [
      "C:\\ProgramData\\Anaconda3\\lib\\site-packages\\ipykernel_launcher.py:3: FutureWarning: convert_objects is deprecated.  Use the data-type specific converters pd.to_datetime, pd.to_timedelta and pd.to_numeric.\n",
      "  This is separate from the ipykernel package so we can avoid doing imports until\n"
     ]
    }
   ],
   "source": [
    "Xtest, Ytest = TransformDataSet(test_path)"
   ]
  },
  {
   "cell_type": "code",
   "execution_count": 42,
   "metadata": {},
   "outputs": [
    {
     "data": {
      "text/plain": [
       "'MAE; 22.1978, RMSE; 40.2871'"
      ]
     },
     "execution_count": 42,
     "metadata": {},
     "output_type": "execute_result"
    }
   ],
   "source": [
    "Accuracy(training_data, Y, Xtest, Ytest)"
   ]
  },
  {
   "cell_type": "code",
   "execution_count": null,
   "metadata": {
    "collapsed": true
   },
   "outputs": [],
   "source": []
  }
 ],
 "metadata": {
  "kernelspec": {
   "display_name": "Python 3",
   "language": "python",
   "name": "python3"
  },
  "language_info": {
   "codemirror_mode": {
    "name": "ipython",
    "version": 3
   },
   "file_extension": ".py",
   "mimetype": "text/x-python",
   "name": "python",
   "nbconvert_exporter": "python",
   "pygments_lexer": "ipython3",
   "version": "3.6.1"
  }
 },
 "nbformat": 4,
 "nbformat_minor": 2
}
