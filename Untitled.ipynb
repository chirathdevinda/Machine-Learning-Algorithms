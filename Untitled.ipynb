{
 "cells": [
  {
   "cell_type": "markdown",
   "metadata": {},
   "source": [
    "# Naive Bayes Classifier"
   ]
  },
  {
   "cell_type": "code",
   "execution_count": 37,
   "metadata": {
    "collapsed": true
   },
   "outputs": [],
   "source": [
    "# Importing all the necessary packages\n",
    "import numpy as np\n",
    "import pandas as pd\n",
    "from sklearn import preprocessing\n",
    "import scipy.stats as stats"
   ]
  },
  {
   "cell_type": "code",
   "execution_count": 309,
   "metadata": {},
   "outputs": [],
   "source": [
    "def load_data(path):\n",
    "    dataset = pd.read_csv(path, header=0)\n",
    "    columns = dataset.values\n",
    "    X = columns[:,:-1]\n",
    "    Y = columns[:,-1]\n",
    "    lb = preprocessing.LabelBinarizer()\n",
    "    Y = lb.fit_transform(Y)\n",
    "    return X, Y"
   ]
  },
  {
   "cell_type": "code",
   "execution_count": 310,
   "metadata": {},
   "outputs": [],
   "source": [
    "X, Y = load_data(\"diabetes.csv\")"
   ]
  },
  {
   "cell_type": "code",
   "execution_count": 402,
   "metadata": {},
   "outputs": [],
   "source": [
    "def NaiveBayes(X, Y, Observation):\n",
    "    P_of_Y_positive = len(Y[Y == 1]) / len(Y)\n",
    "    P_of_Y_negative = len(Y[Y == 0]) / len(Y)\n",
    "    P_of_X_given_Y_positive = []\n",
    "    P_of_X_given_Y_negative = []\n",
    "    \n",
    "    data = np.concatenate((X, Y), axis=1)\n",
    "    x_positive = data[data[:,-1] == 1]\n",
    "    x_negative = data[data[:,-1] == 0]\n",
    "    total_probability_pos = 1\n",
    "    total_probability_neg = 1\n",
    "    \n",
    "    for i, x in enumerate(Observation):\n",
    "        pos_mean = np.round(np.mean(x_positive[:,i]),3)\n",
    "        pos_std = np.round(np.std(x_positive[:,i]),3)\n",
    "        P_of_X_given_Y_positive.append(np.round(stats.norm(pos_mean, pos_std).pdf(x),3))\n",
    "        \n",
    "        neg_mean = np.round(np.mean(x_negative[:,i]),3)\n",
    "        neg_std = np.round(np.std(x_negative[:,i]),3)\n",
    "        P_of_X_given_Y_negative.append(np.round(stats.norm(neg_mean, neg_std).pdf(x),3))\n",
    "    \n",
    "    for i in (P_of_X_given_Y_positive):\n",
    "        total_probability_pos *= i\n",
    "    for j in (P_of_X_given_Y_negative):\n",
    "        total_probability_neg *= j\n",
    "        \n",
    "    P_of_X_given_Y_positive = total_probability_pos\n",
    "    P_of_X_given_Y_negative = total_probability_neg\n",
    "    P_of_Y_given_X = 1 if P_of_X_given_Y_positive * P_of_Y_positive >= P_of_X_given_Y_negative * P_of_Y_negative else 0\n",
    "    \n",
    "    return P_of_Y_given_X"
   ]
  },
  {
   "cell_type": "code",
   "execution_count": 403,
   "metadata": {},
   "outputs": [],
   "source": [
    "P_of_Y_pos = len(Y[Y == 1])"
   ]
  },
  {
   "cell_type": "code",
   "execution_count": 404,
   "metadata": {},
   "outputs": [
    {
     "data": {
      "text/plain": [
       "268"
      ]
     },
     "execution_count": 404,
     "metadata": {},
     "output_type": "execute_result"
    }
   ],
   "source": [
    "P_of_Y_pos"
   ]
  },
  {
   "cell_type": "code",
   "execution_count": 405,
   "metadata": {},
   "outputs": [
    {
     "data": {
      "text/plain": [
       "0"
      ]
     },
     "execution_count": 405,
     "metadata": {},
     "output_type": "execute_result"
    }
   ],
   "source": [
    "NaiveBayes(X, Y, [1.   ,  85.   ,  66.   ,  29.   ,   0.   ,  26.6  ,   0.351, 31. ])"
   ]
  },
  {
   "cell_type": "code",
   "execution_count": 406,
   "metadata": {},
   "outputs": [
    {
     "data": {
      "text/plain": [
       "array([1, 85, 66, 29, 0, 26.6, 0.35100000000000003, 31, 0], dtype=object)"
      ]
     },
     "execution_count": 406,
     "metadata": {},
     "output_type": "execute_result"
    }
   ],
   "source": [
    "data = np.concatenate((X, Y), axis=1)\n",
    "data[1]"
   ]
  },
  {
   "cell_type": "code",
   "execution_count": 409,
   "metadata": {},
   "outputs": [
    {
     "name": "stdout",
     "output_type": "stream",
     "text": [
      "Accuracy 73.56770833333334\n"
     ]
    }
   ],
   "source": [
    "total = 0\n",
    "for i, row in enumerate(X):\n",
    "    global total\n",
    "    total += 1 if Y[i] == NaiveBayes(X, Y, row) else 0\n",
    "    \n",
    "print(\"Accuracy\", total/ len(Y) * 100) "
   ]
  },
  {
   "cell_type": "code",
   "execution_count": null,
   "metadata": {},
   "outputs": [],
   "source": []
  },
  {
   "cell_type": "code",
   "execution_count": null,
   "metadata": {},
   "outputs": [],
   "source": []
  },
  {
   "cell_type": "code",
   "execution_count": null,
   "metadata": {},
   "outputs": [],
   "source": []
  },
  {
   "cell_type": "code",
   "execution_count": null,
   "metadata": {},
   "outputs": [],
   "source": []
  },
  {
   "cell_type": "code",
   "execution_count": null,
   "metadata": {},
   "outputs": [],
   "source": []
  },
  {
   "cell_type": "code",
   "execution_count": null,
   "metadata": {
    "collapsed": true
   },
   "outputs": [],
   "source": []
  }
 ],
 "metadata": {
  "kernelspec": {
   "display_name": "Python 3",
   "language": "python",
   "name": "python3"
  },
  "language_info": {
   "codemirror_mode": {
    "name": "ipython",
    "version": 3
   },
   "file_extension": ".py",
   "mimetype": "text/x-python",
   "name": "python",
   "nbconvert_exporter": "python",
   "pygments_lexer": "ipython3",
   "version": "3.6.1"
  }
 },
 "nbformat": 4,
 "nbformat_minor": 2
}
