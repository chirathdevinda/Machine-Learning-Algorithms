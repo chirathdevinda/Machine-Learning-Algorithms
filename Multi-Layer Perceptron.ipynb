{
 "cells": [
  {
   "cell_type": "markdown",
   "metadata": {},
   "source": [
    "# Multi Layer Perceptron with Multiple Output (MNIST DataSet)"
   ]
  },
  {
   "cell_type": "code",
   "execution_count": 8,
   "metadata": {
    "collapsed": true
   },
   "outputs": [],
   "source": [
    "import numpy as np\n",
    "import pandas as pd\n",
    "import matplotlib.pyplot as plt\n",
    "from sklearn.preprocessing import LabelBinarizer\n",
    "import seaborn as sns\n",
    "import sys\n",
    "\n",
    "path = \"DataSets\\MNIST_train.csv\"\n",
    "test_path = \"DataSets\\MNIST_test.csv\""
   ]
  },
  {
   "cell_type": "code",
   "execution_count": 9,
   "metadata": {
    "collapsed": true
   },
   "outputs": [],
   "source": [
    "def preprocess(path):\n",
    "    dataset = pd.read_csv(path, header=0)\n",
    "    data = dataset.values\n",
    "    \n",
    "    x = data[:,1:] / 255.0\n",
    "    y = data[:,0]\n",
    "    \n",
    "    lb = LabelBinarizer()\n",
    "    lb.fit(y)\n",
    "    y = lb.transform(y)\n",
    "    \n",
    "    return x, y"
   ]
  },
  {
   "cell_type": "code",
   "execution_count": 10,
   "metadata": {},
   "outputs": [],
   "source": [
    "trainX, trainY = preprocess(path)"
   ]
  },
  {
   "cell_type": "code",
   "execution_count": 11,
   "metadata": {
    "collapsed": true
   },
   "outputs": [],
   "source": [
    "# Choosing only first 1000 examples\n",
    "trainX = trainX[:1000]"
   ]
  },
  {
   "cell_type": "code",
   "execution_count": 17,
   "metadata": {},
   "outputs": [],
   "source": [
    "def activation_func(inputs, name):\n",
    "    if name == \"RelU\":\n",
    "        return (inputs > 0) * inputs\n",
    "    elif name == \"Sigmoid\":\n",
    "        return (1 / (1 + np.exp(-inputs)))\n",
    "    \n",
    "def activation_deriv(output, name):\n",
    "    if name == \"RelU\":\n",
    "        return (output > 0)\n",
    "    #elif name == \"Sigmoid\"\n",
    "        #return (activation_funnc())"
   ]
  },
  {
   "cell_type": "code",
   "execution_count": 18,
   "metadata": {
    "collapsed": true
   },
   "outputs": [],
   "source": [
    "def MLP(trainX, trainY, alpha=0.05, iterations=2):\n",
    "    \n",
    "    np.random.seed(1)\n",
    "    \n",
    "    input_nodes = trainX.shape[1]\n",
    "    hidden_nodes = 40\n",
    "    output_nodes = 10\n",
    "    num_samples = trainX.shape[0]\n",
    "    \n",
    "    weights_0_1 = 0.2 * np.random.random((input_nodes,hidden_nodes)) - 0.1\n",
    "    weights_1_2 = 0.2 * np.random.random((hidden_nodes, output_nodes)) - 0.1\n",
    "    \n",
    "    errors = []\n",
    "    final_predictions = []\n",
    "    \n",
    "    for iteration in range(iterations):\n",
    "        error, correct_cnt = 0.0, 0\n",
    "        \n",
    "        for i in range(num_samples):\n",
    "            layer_0 = trainX[i:i+1]\n",
    "            layer_1 = activation_func(layer_0.dot(weights_0_1), \"RelU\")\n",
    "            layer_2 = layer_1.dot(weights_1_2)\n",
    "            \n",
    "            error += np.sum(layer_2 - trainY[i:i+1])\n",
    "            correct_cnt += int(np.argmax(layer_2)) == np.argmax(trainY[i:i+1])\n",
    "            \n",
    "            layer_2_delta = layer_2 - trainY[i:i+1]\n",
    "            layer_1_delta = layer_2_delta.dot(weights_1_2.T) * activation_deriv(layer_1, \"RelU\")\n",
    "            \n",
    "            weights_1_2 -= layer_1.T.dot(layer_2_delta) * alpha\n",
    "            weights_0_1 -= layer_0.T.dot(layer_1_delta) * alpha\n",
    "            \n",
    "            if (i == num_samples-1):\n",
    "                final_predictions.append(layer_2)\n",
    "            \n",
    "        print(\"\\r\" + \"Iterations\" + str(iteration) + \" Error: \" + str(error)[0:5] + \" Correct Count: \" + str(correct_cnt))\n",
    "        \n",
    "    return errors, final_predictions, weights_0_1, weights_1_2"
   ]
  },
  {
   "cell_type": "code",
   "execution_count": 19,
   "metadata": {},
   "outputs": [
    {
     "name": "stdout",
     "output_type": "stream",
     "text": [
      "\r",
      "Iterations0 Error: -105. Correct Count: 652\n",
      "\r",
      "Iterations1 Error: -96.6 Correct Count: 849\n"
     ]
    }
   ],
   "source": [
    "errors, final_predictions, weights_0_1, weights_1_2 = MLP(trainX, trainY, alpha=0.05, iterations=2)"
   ]
  },
  {
   "cell_type": "code",
   "execution_count": null,
   "metadata": {
    "collapsed": true
   },
   "outputs": [],
   "source": []
  }
 ],
 "metadata": {
  "kernelspec": {
   "display_name": "Python 3",
   "language": "python",
   "name": "python3"
  },
  "language_info": {
   "codemirror_mode": {
    "name": "ipython",
    "version": 3
   },
   "file_extension": ".py",
   "mimetype": "text/x-python",
   "name": "python",
   "nbconvert_exporter": "python",
   "pygments_lexer": "ipython3",
   "version": "3.6.1"
  }
 },
 "nbformat": 4,
 "nbformat_minor": 2
}
