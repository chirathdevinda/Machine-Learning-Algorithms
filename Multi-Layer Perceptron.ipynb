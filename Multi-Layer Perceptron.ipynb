{
 "cells": [
  {
   "cell_type": "markdown",
   "metadata": {},
   "source": [
    "# Multi Layer Perceptron with Multiple Output (MNIST DataSet)"
   ]
  },
  {
   "cell_type": "code",
   "execution_count": 8,
   "metadata": {
    "collapsed": true
   },
   "outputs": [],
   "source": [
    "import numpy as np\n",
    "import pandas as pd\n",
    "import matplotlib.pyplot as plt\n",
    "from sklearn.preprocessing import LabelBinarizer\n",
    "import seaborn as sns\n",
    "import sys\n",
    "\n",
    "path = \"DataSets\\MNIST_train.csv\"\n",
    "test_path = \"DataSets\\MNIST_test.csv\""
   ]
  },
  {
   "cell_type": "code",
   "execution_count": 9,
   "metadata": {
    "collapsed": true
   },
   "outputs": [],
   "source": [
    "def preprocess(path):\n",
    "    dataset = pd.read_csv(path, header=0)\n",
    "    data = dataset.values\n",
    "    \n",
    "    x = data[:,1:] / 255.0\n",
    "    y = data[:,0]\n",
    "    \n",
    "    lb = LabelBinarizer()\n",
    "    lb.fit(y)\n",
    "    y = lb.transform(y)\n",
    "    \n",
    "    return x, y"
   ]
  },
  {
   "cell_type": "code",
   "execution_count": 10,
   "metadata": {},
   "outputs": [],
   "source": [
    "trainX, trainY = preprocess(path)"
   ]
  },
  {
   "cell_type": "code",
   "execution_count": 11,
   "metadata": {
    "collapsed": true
   },
   "outputs": [],
   "source": [
    "# Choosing only first 1000 examples\n",
    "trainX = trainX[:1000]"
   ]
  },
  {
   "cell_type": "code",
   "execution_count": 17,
   "metadata": {},
   "outputs": [],
   "source": [
    "def activation_func(inputs, name):\n",
    "    if name == \"RelU\":\n",
    "        return (inputs > 0) * inputs\n",
    "    elif name == \"Sigmoid\":\n",
    "        return (1 / (1 + np.exp(-inputs)))\n",
    "    \n",
    "def activation_deriv(output, name):\n",
    "    if name == \"RelU\":\n",
    "        return (output > 0)\n",
    "    #elif name == \"Sigmoid\"\n",
    "        #return (activation_funnc())"
   ]
  },
  {
   "cell_type": "code",
   "execution_count": 114,
   "metadata": {
    "collapsed": true
   },
   "outputs": [],
   "source": [
    "def MLP(trainX, trainY, alpha=0.05, iterations=2):\n",
    "    \n",
    "    np.random.seed(1)\n",
    "    \n",
    "    input_nodes = trainX.shape[1]\n",
    "    hidden_nodes = 40\n",
    "    output_nodes = 10\n",
    "    num_samples = trainX.shape[0]\n",
    "    \n",
    "    weights_0_1 = 0.2 * np.random.random((input_nodes,hidden_nodes)) - 0.1\n",
    "    weights_1_2 = 0.2 * np.random.random((hidden_nodes, output_nodes)) - 0.1\n",
    "    \n",
    "    errors = []\n",
    "    \n",
    "    for iteration in range(iterations):\n",
    "        error, correct_cnt = 0.0, 0\n",
    "        \n",
    "        for i in range(num_samples):\n",
    "            layer_0 = trainX[i:i+1]\n",
    "            layer_1 = activation_func(layer_0.dot(weights_0_1), \"RelU\")\n",
    "            layer_2 = layer_1.dot(weights_1_2)\n",
    "            \n",
    "            error += np.sum((layer_2 - trainY[i:i+1])**2)\n",
    "            correct_cnt += np.argmax(layer_2) == np.argmax(trainY[i:i+1])\n",
    "            \n",
    "            layer_2_delta = layer_2 - trainY[i:i+1]\n",
    "            layer_1_delta = layer_2_delta.dot(weights_1_2.T) * activation_deriv(layer_1, \"RelU\")\n",
    "            \n",
    "            weights_1_2 -= layer_1.T.dot(layer_2_delta) * alpha\n",
    "            weights_0_1 -= layer_0.T.dot(layer_1_delta) * alpha\n",
    "\n",
    "        errors.append(error)\n",
    "        sys.stdout.write(\"\\r\" + \"Iterations: \" + str(iteration+1) + \" Error: \" + str(error / num_samples)[0:5] + \" Correct Count: \" + str(correct_cnt))\n",
    "        \n",
    "    return errors, correct_cnt, weights_0_1, weights_1_2"
   ]
  },
  {
   "cell_type": "code",
   "execution_count": 180,
   "metadata": {
    "collapsed": true
   },
   "outputs": [],
   "source": [
    "def Accuracy(target, correct_cnt):\n",
    "    Accuracy, num_samples = 0.0, target.shape[0]\n",
    "    Accuracy = (correct_cnt / num_samples) * 100\n",
    "    return (\"Accuracy: %.4f %s\" % (Accuracy, \"%\"))"
   ]
  },
  {
   "cell_type": "code",
   "execution_count": 250,
   "metadata": {
    "collapsed": true
   },
   "outputs": [],
   "source": [
    "def plot(data):\n",
    "    fig, ax = plt.figure(figsize=(20,10))\n",
    "    ax.set_xlabel(\"Iteration\")\n",
    "    ax.set_ylabel(\"Error\")\n",
    "    ax.set_title(\"Error Plot\", fontsize=15)\n",
    "    ax.plot(data, lw=2, ls=\"-\", marker='o', markersize=5, markerfacecolor=\"yellow\", markeredgecolor=\"red\", markeredgewidth=1)\n",
    "    plt.show()"
   ]
  },
  {
   "cell_type": "code",
   "execution_count": 277,
   "metadata": {
    "collapsed": true
   },
   "outputs": [],
   "source": [
    "def show_image(data, predictions):\n",
    "    fig = plt.figure(figsize=(15,8))\n",
    "    fig.suptitle(\"Test Predictions\", fontsize=20)\n",
    "    for i in range(data.shape[0]):\n",
    "        ax = \"ax\" + str(i)\n",
    "        ax = fig.add_subplot(3,3,i+1)\n",
    "        ax.set_axis_off()\n",
    "        ax.set_title(\"Test Prediction: \"+ str(predictions[i]), color=\"red\")\n",
    "        ax.imshow(data[i].reshape(28,28))\n",
    "    plt.show()"
   ]
  },
  {
   "cell_type": "code",
   "execution_count": 117,
   "metadata": {},
   "outputs": [
    {
     "name": "stdout",
     "output_type": "stream",
     "text": [
      "Iterations: 100 Error: 0.015 Correct Count: 995"
     ]
    }
   ],
   "source": [
    "errors, correct_cnt, weights_0_1, weights_1_2 = MLP(trainX, trainY, alpha=0.01, iterations=100)"
   ]
  },
  {
   "cell_type": "code",
   "execution_count": 139,
   "metadata": {},
   "outputs": [
    {
     "data": {
      "text/plain": [
       "'Accuracy: 99.5000 %'"
      ]
     },
     "execution_count": 139,
     "metadata": {},
     "output_type": "execute_result"
    }
   ],
   "source": [
    "Accuracy(trainY[:1000], correct_cnt)"
   ]
  },
  {
   "cell_type": "code",
   "execution_count": 87,
   "metadata": {},
   "outputs": [
    {
     "data": {
      "image/png": "[encoded data removed]",
      "text/plain": [
       "<matplotlib.figure.Figure at 0x1cecf978>"
      ]
     },
     "metadata": {},
     "output_type": "display_data"
    }
   ],
   "source": [
    "plot(errors)"
   ]
  },
  {
   "cell_type": "markdown",
   "metadata": {},
   "source": [
    "# Test Predictions"
   ]
  },
  {
   "cell_type": "code",
   "execution_count": 145,
   "metadata": {},
   "outputs": [],
   "source": [
    "testX1, testX2 = preprocess(test_path)\n",
    "testX = np.concatenate((testX1, testX2), axis=1)"
   ]
  },
  {
   "cell_type": "code",
   "execution_count": 197,
   "metadata": {},
   "outputs": [],
   "source": [
    "test_predictions = []\n",
    "\n",
    "for i in range(testX.shape[0]):\n",
    "    prediction = np.argmax(activation_func(testX[i].dot(weights_0_1), \"RelU\").dot(weights_1_2))\n",
    "    test_predictions.append(prediction)"
   ]
  },
  {
   "cell_type": "code",
   "execution_count": 278,
   "metadata": {},
   "outputs": [
    {
     "data": {
      "image/png": "[encoded data removed]",
      "text/plain": [
       "<matplotlib.figure.Figure at 0xdbdceb8>"
      ]
     },
     "metadata": {},
     "output_type": "display_data"
    }
   ],
   "source": [
    "show_image(np.array([testX[0],testX[1],testX[2],testX[3],testX[4],testX[5],testX[6],testX[7],testX[8]]), test_predictions[:9])"
   ]
  },
  {
   "cell_type": "code",
   "execution_count": null,
   "metadata": {},
   "outputs": [],
   "source": []
  },
  {
   "cell_type": "code",
   "execution_count": null,
   "metadata": {
    "collapsed": true
   },
   "outputs": [],
   "source": []
  }
 ],
 "metadata": {
  "kernelspec": {
   "display_name": "Python 3",
   "language": "python",
   "name": "python3"
  },
  "language_info": {
   "codemirror_mode": {
    "name": "ipython",
    "version": 3
   },
   "file_extension": ".py",
   "mimetype": "text/x-python",
   "name": "python",
   "nbconvert_exporter": "python",
   "pygments_lexer": "ipython3",
   "version": "3.6.1"
  }
 },
 "nbformat": 4,
 "nbformat_minor": 2
}
